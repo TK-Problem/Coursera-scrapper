{
  "nbformat": 4,
  "nbformat_minor": 0,
  "metadata": {
    "colab": {
      "provenance": [],
      "authorship_tag": "ABX9TyNzA1VSTKLW4x1JzigEBIeH",
      "include_colab_link": true
    },
    "kernelspec": {
      "name": "python3",
      "display_name": "Python 3"
    },
    "language_info": {
      "name": "python"
    }
  },
  "cells": [
    {
      "cell_type": "markdown",
      "metadata": {
        "id": "view-in-github",
        "colab_type": "text"
      },
      "source": [
        "<a href=\"https://colab.research.google.com/github/TK-Problem/Coursera-scrapper/blob/master/coursera_review_scraper.ipynb\" target=\"_parent\"><img src=\"https://colab.research.google.com/assets/colab-badge.svg\" alt=\"Open In Colab\"/></a>"
      ]
    },
    {
      "cell_type": "code",
      "execution_count": null,
      "metadata": {
        "cellView": "form",
        "id": "nSNxjETyunWe"
      },
      "outputs": [],
      "source": [
        "#@title Load libraries\n",
        "import requests # for running HTML requests\n",
        "from tqdm import tqdm # for monitoring progress\n",
        "from bs4 import BeautifulSoup # for parsing raw HTML code and extracting usefull data\n",
        "import pandas as pd # for reading csv file\n",
        "import csv # for working with .scv fiels\n",
        "\n",
        "# mount google drive\n",
        "mount_gdrive = True # @param{type:\"boolean\"}\n",
        "if mount_gdrive:\n",
        "  from google.colab import drive\n",
        "  drive.mount('/content/drive')"
      ]
    },
    {
      "cell_type": "markdown",
      "source": [
        "#### Option 1\n",
        "\n",
        "![example](https://i0.wp.com/neptune.ai/wp-content/uploads/2022/10/colab-upload.png?ssl=1 \"Placeholder fig. title\")\n",
        "\n",
        "or one can load from google drive (faster option)\n",
        "\n",
        "#### Option 2\n",
        "\n",
        "![example](https://i0.wp.com/neptune.ai/wp-content/uploads/2022/10/colab-file.png?ssl=1 \"Placeholder fig. title\")\n",
        "\n"
      ],
      "metadata": {
        "id": "PnRSTw4futxH"
      }
    },
    {
      "cell_type": "code",
      "source": [
        "#@title Read URLs\n",
        "\n",
        "#@markdown Upload data before running this cell upload\n",
        "#@markdown `.csv` files manually into enviroment (see image above).\n",
        "\n",
        "file_path = ''  #@param {type: \"string\"}\n",
        "\n",
        "# read data\n",
        "try:\n",
        "  df = pd.read_csv(file_path, header=None)\n",
        "  # select unique URLS\n",
        "  urls = df.iloc[:, 0].unique()\n",
        "  # add columns\n",
        "  df.columns = ['URL', \"Week_no\", \"Week_name\", \"Est_time_to_compelte\", \"Week_description\"]\n",
        "\n",
        "# file path/fole not found\n",
        "except FileNotFoundError:\n",
        "  print(\"File not found.\")\n",
        "  urls = []\n",
        "\n",
        "# return status message\n",
        "print(f\"{len(urls)} courses found\")"
      ],
      "metadata": {
        "cellView": "form",
        "id": "v5dgiLLyu6XW"
      },
      "execution_count": null,
      "outputs": []
    },
    {
      "cell_type": "code",
      "source": [
        "#@title Read course reviews\n",
        "\n",
        "output_path = ''  #@param {type: \"string\"}\n",
        "\n",
        "# iterate over URLS\n",
        "for url in tqdm(df.URL.unique()):\n",
        "  # make request\n",
        "  _url_1 = f\"https://www.coursera.org{url}\"\n",
        "  page = requests.get(_url_1)\n",
        "  \n",
        "  # convert to bs4 object for parcing html\n",
        "  soup = BeautifulSoup(page.text, 'html.parser')\n",
        "  \n",
        "  # check for review page\n",
        "  try:\n",
        "    rew_button = soup.find(\"a\", {\"data-e2e\": \"reviews-page-link\"})['href']\n",
        "  except:\n",
        "    # no reviews available\n",
        "    rew_button = ''\n",
        "\n",
        "  # tmp. list to store all reviews\n",
        "  _data = []\n",
        "\n",
        "  # visit all reviews\n",
        "  if rew_button:\n",
        "    # make request\n",
        "    _url_2 = f\"https://www.coursera.org{rew_button}\"\n",
        "    page = requests.get(_url_2)\n",
        "    \n",
        "    # convert to bs4 object for parcing html\n",
        "    soup = BeautifulSoup(page.text, 'html.parser')\n",
        "    \n",
        "    # find navigation bar all entries\n",
        "    nav_bar = soup.find(\"nav\", {\"aria-label\": \"Pagination Controls\"}).find_all(\"li\")\n",
        "    \n",
        "    # get the last available tab number\n",
        "    _no_pages = int(nav_bar[-2].text.strip())\n",
        "    if _no_pages == 400: _no_pages = 399\n",
        "    \n",
        "    # iterate over pages\n",
        "    for i in range(1, _no_pages+1):\n",
        "      # generate link and visit website\n",
        "      _url_3 = f\"https://www.coursera.org/learn/machine-learning/reviews?sort=recent&page={i}\"\n",
        "      page = requests.get(_url_3)\n",
        "\n",
        "      # convert to bs4 object for parcing html\n",
        "      soup = BeautifulSoup(page.text, 'html.parser')\n",
        "\n",
        "      # find all reviews\n",
        "      reviews = soup.find_all(\"div\", {\"class\": \"cds-63 review review-text review-page-review m-b-2 css-0 cds-64\"})\n",
        "\n",
        "      for r in reviews:\n",
        "        # extract review info\n",
        "        rev_name = r.find(\"p\", {\"class\": \"cds-33 reviewerName p-x-1s css-14d8ngk cds-35\"}).text[3:]\n",
        "        rev_date = r.find(\"p\", {\"class\": \"cds-33 dateOfReview p-x-1s css-14d8ngk cds-35\"}).text\n",
        "        rev_text = r.find(\"div\", {\"data-testid\": \"cml-viewer\"}).text\n",
        "        # count course starts\n",
        "        stars = r.find(\"div\", {\"class\": \"_1mzojlvw\"}).find_all(\"span\")\n",
        "        start_cnt = 0\n",
        "        for s in stars:\n",
        "          if s.title.text == \"Filled Star\":\n",
        "            start_cnt += 1\n",
        "\n",
        "        # add data\n",
        "        _data.append([url, rev_name, rev_date, rev_text, start_cnt])\n",
        "  else:\n",
        "    # return message\n",
        "    print(f\"For {url} no reviews page was found.\")\n",
        "\n",
        "  # write all recorded reviews to .csv file\n",
        "  with open(output_path, 'a', encoding='UTF8', newline='') as f:\n",
        "    # create writer object\n",
        "    writer = csv.writer(f)\n",
        "\n",
        "    # iterate over rows\n",
        "    for _row in _data:\n",
        "        # save line\n",
        "        writer.writerow(_row)"
      ],
      "metadata": {
        "id": "Ldd-K_LRu7XY",
        "cellView": "form"
      },
      "execution_count": null,
      "outputs": []
    },
    {
      "cell_type": "code",
      "source": [],
      "metadata": {
        "id": "vqBhg9hf6R7H"
      },
      "execution_count": null,
      "outputs": []
    }
  ]
}