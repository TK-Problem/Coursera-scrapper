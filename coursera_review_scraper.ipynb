{
  "nbformat": 4,
  "nbformat_minor": 0,
  "metadata": {
    "colab": {
      "provenance": [],
      "authorship_tag": "ABX9TyOLoynPCm7MbPdkttb2Mrd2",
      "include_colab_link": true
    },
    "kernelspec": {
      "name": "python3",
      "display_name": "Python 3"
    },
    "language_info": {
      "name": "python"
    }
  },
  "cells": [
    {
      "cell_type": "markdown",
      "metadata": {
        "id": "view-in-github",
        "colab_type": "text"
      },
      "source": [
        "<a href=\"https://colab.research.google.com/github/TK-Problem/Coursera-scrapper/blob/master/coursera_review_scraper.ipynb\" target=\"_parent\"><img src=\"https://colab.research.google.com/assets/colab-badge.svg\" alt=\"Open In Colab\"/></a>"
      ]
    },
    {
      "cell_type": "code",
      "execution_count": null,
      "metadata": {
        "cellView": "form",
        "id": "nSNxjETyunWe"
      },
      "outputs": [],
      "source": [
        "#@title Load libraries\n",
        "import requests # for running HTML requests\n",
        "from tqdm import tqdm # for monitoring progress\n",
        "from bs4 import BeautifulSoup # for parsing raw HTML code and extracting usefull data\n",
        "import pandas as pd # for reading csv file"
      ]
    },
    {
      "cell_type": "markdown",
      "source": [
        "![example](https://i0.wp.com/neptune.ai/wp-content/uploads/2022/10/colab-upload.png?ssl=1 \"Placeholder fig. title\")\n",
        "\n",
        "or one can load from google drive (faster option)\n",
        "\n",
        "![example](https://i0.wp.com/neptune.ai/wp-content/uploads/2022/10/colab-file.png?ssl=1 \"Placeholder fig. title\")\n",
        "\n"
      ],
      "metadata": {
        "id": "PnRSTw4futxH"
      }
    },
    {
      "cell_type": "code",
      "source": [
        "#@title Read URLs\n",
        "\n",
        "#@markdown Upload data before running this cell upload\n",
        "#@markdown `.csv` files manually into enviroment (see image above).\n",
        "\n",
        "file_path = '/content/drive/MyDrive/courses_detailed.csv'  #@param {type: \"string\"}\n",
        "\n",
        "# read data\n",
        "try:\n",
        "  df = pd.read_csv(file_path, header=None)\n",
        "  # select unique URLS\n",
        "  urls = df.iloc[:, 0].unique()\n",
        "\n",
        "# file path/fole not found\n",
        "except FileNotFoundError:\n",
        "  print(\"File not found.\")\n",
        "  urls = []\n",
        "\n",
        "# return status message\n",
        "print(f\"{len(urls)} courses found\")"
      ],
      "metadata": {
        "cellView": "form",
        "id": "v5dgiLLyu6XW"
      },
      "execution_count": null,
      "outputs": []
    },
    {
      "cell_type": "code",
      "source": [],
      "metadata": {
        "id": "Ldd-K_LRu7XY"
      },
      "execution_count": null,
      "outputs": []
    }
  ]
}